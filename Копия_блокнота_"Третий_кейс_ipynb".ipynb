{
  "cells": [
    {
      "cell_type": "markdown",
      "metadata": {
        "id": "view-in-github",
        "colab_type": "text"
      },
      "source": [
        "<a href=\"https://colab.research.google.com/github/Kebrenok/Simulative-/blob/main/%D0%9A%D0%BE%D0%BF%D0%B8%D1%8F_%D0%B1%D0%BB%D0%BE%D0%BA%D0%BD%D0%BE%D1%82%D0%B0_%22%D0%A2%D1%80%D0%B5%D1%82%D0%B8%D0%B9_%D0%BA%D0%B5%D0%B9%D1%81_ipynb%22.ipynb\" target=\"_parent\"><img src=\"https://colab.research.google.com/assets/colab-badge.svg\" alt=\"Open In Colab\"/></a>"
      ]
    },
    {
      "cell_type": "markdown",
      "metadata": {
        "id": "T_xBU6WvyPhY"
      },
      "source": [
        "## 3 кейс\n",
        "\n",
        "**В этом кейсе вы будете рассчитывать:**\n",
        "* retention\n",
        "* rolling retention\n",
        "* lifetime\n",
        "* churn rate\n",
        "* mau\n",
        "* wau\n",
        "* dau"
      ]
    },
    {
      "cell_type": "markdown",
      "metadata": {
        "id": "U2D5zGSdzc92"
      },
      "source": [
        "**Важно**\n",
        "\n",
        "Перед началом решения задачи выполните следующую ячейку - в ней скачиваются нужные файлы"
      ]
    },
    {
      "cell_type": "code",
      "execution_count": 19,
      "metadata": {
        "colab": {
          "base_uri": "https://localhost:8080/"
        },
        "id": "3eJFMuMpyCp-",
        "outputId": "7e7ce904-e208-49e1-b9f2-13407877b2fd"
      },
      "outputs": [
        {
          "output_type": "stream",
          "name": "stdout",
          "text": [
            "--2025-07-07 09:51:02--  https://gist.github.com/Vs8th/739269a03f2f4a7396d04d6739da3771/raw/registrations.csv\n",
            "Resolving gist.github.com (gist.github.com)... 140.82.116.4\n",
            "Connecting to gist.github.com (gist.github.com)|140.82.116.4|:443... connected.\n",
            "HTTP request sent, awaiting response... 301 Moved Permanently\n",
            "Location: https://gist.githubusercontent.com/Vs8th/739269a03f2f4a7396d04d6739da3771/raw/registrations.csv [following]\n",
            "--2025-07-07 09:51:02--  https://gist.githubusercontent.com/Vs8th/739269a03f2f4a7396d04d6739da3771/raw/registrations.csv\n",
            "Resolving gist.githubusercontent.com (gist.githubusercontent.com)... 185.199.108.133, 185.199.109.133, 185.199.110.133, ...\n",
            "Connecting to gist.githubusercontent.com (gist.githubusercontent.com)|185.199.108.133|:443... connected.\n",
            "HTTP request sent, awaiting response... 200 OK\n",
            "Length: 14918 (15K) [text/plain]\n",
            "Saving to: ‘registrations.csv.1’\n",
            "\n",
            "registrations.csv.1 100%[===================>]  14.57K  --.-KB/s    in 0s      \n",
            "\n",
            "2025-07-07 09:51:02 (87.2 MB/s) - ‘registrations.csv.1’ saved [14918/14918]\n",
            "\n",
            "--2025-07-07 09:51:02--  https://gist.github.com/Vs8th/aacb80595d1d6aaa2e31eb735f8bc644/raw/entries.csv\n",
            "Resolving gist.github.com (gist.github.com)... 140.82.116.4\n",
            "Connecting to gist.github.com (gist.github.com)|140.82.116.4|:443... connected.\n",
            "HTTP request sent, awaiting response... 301 Moved Permanently\n",
            "Location: https://gist.githubusercontent.com/Vs8th/aacb80595d1d6aaa2e31eb735f8bc644/raw/entries.csv [following]\n",
            "--2025-07-07 09:51:02--  https://gist.githubusercontent.com/Vs8th/aacb80595d1d6aaa2e31eb735f8bc644/raw/entries.csv\n",
            "Resolving gist.githubusercontent.com (gist.githubusercontent.com)... 185.199.108.133, 185.199.109.133, 185.199.111.133, ...\n",
            "Connecting to gist.githubusercontent.com (gist.githubusercontent.com)|185.199.108.133|:443... connected.\n",
            "HTTP request sent, awaiting response... 200 OK\n",
            "Length: 308588 (301K) [text/plain]\n",
            "Saving to: ‘entries.csv.1’\n",
            "\n",
            "entries.csv.1       100%[===================>] 301.36K  --.-KB/s    in 0.03s   \n",
            "\n",
            "2025-07-07 09:51:02 (9.75 MB/s) - ‘entries.csv.1’ saved [308588/308588]\n",
            "\n",
            "--2025-07-07 09:51:02--  https://gist.github.com/Vs8th/0e827e9a608117345dd6585ab81e8c86/raw/metrics.txt\n",
            "Resolving gist.github.com (gist.github.com)... 140.82.116.4\n",
            "Connecting to gist.github.com (gist.github.com)|140.82.116.4|:443... connected.\n",
            "HTTP request sent, awaiting response... 301 Moved Permanently\n",
            "Location: https://gist.githubusercontent.com/Vs8th/0e827e9a608117345dd6585ab81e8c86/raw/metrics.txt [following]\n",
            "--2025-07-07 09:51:02--  https://gist.githubusercontent.com/Vs8th/0e827e9a608117345dd6585ab81e8c86/raw/metrics.txt\n",
            "Resolving gist.githubusercontent.com (gist.githubusercontent.com)... 185.199.108.133, 185.199.109.133, 185.199.110.133, ...\n",
            "Connecting to gist.githubusercontent.com (gist.githubusercontent.com)|185.199.108.133|:443... connected.\n",
            "HTTP request sent, awaiting response... 200 OK\n",
            "Length: 67 [text/plain]\n",
            "Saving to: ‘metrics.txt.1’\n",
            "\n",
            "metrics.txt.1       100%[===================>]      67  --.-KB/s    in 0s      \n",
            "\n",
            "2025-07-07 09:51:03 (2.24 MB/s) - ‘metrics.txt.1’ saved [67/67]\n",
            "\n"
          ]
        }
      ],
      "source": [
        "!wget https://gist.github.com/Vs8th/739269a03f2f4a7396d04d6739da3771/raw/registrations.csv\n",
        "\n",
        "!wget https://gist.github.com/Vs8th/aacb80595d1d6aaa2e31eb735f8bc644/raw/entries.csv\n",
        "\n",
        "!wget https://gist.github.com/Vs8th/0e827e9a608117345dd6585ab81e8c86/raw/metrics.txt"
      ]
    },
    {
      "cell_type": "markdown",
      "metadata": {
        "id": "vnMFicli7Fa7"
      },
      "source": [
        "Файлами для работы являются `registrations.csv` и `entries.csv`. В них хранятся данные о регистрациях пользователей и входа на платформу соответственно."
      ]
    },
    {
      "cell_type": "markdown",
      "metadata": {
        "id": "s2g2hxfMzqLo"
      },
      "source": [
        "### **Посчитайте Retention 15 дня (в процентах) для пользователей, зарегистрированных в январе**\n",
        "\n",
        "Cохраните результат в переменную `retention_15_day`\n",
        "\n",
        "**Примечание:** результат округлите до 5 знаков после запятой"
      ]
    },
    {
      "cell_type": "code",
      "execution_count": null,
      "metadata": {
        "colab": {
          "base_uri": "https://localhost:8080/"
        },
        "id": "u5l9mm-vzpJ8",
        "outputId": "c3325910-7c5a-4285-d819-51480ddd9bdb"
      },
      "outputs": [
        {
          "output_type": "execute_result",
          "data": {
            "text/plain": [
              "54.65116"
            ]
          },
          "metadata": {},
          "execution_count": 60
        }
      ],
      "source": [
        "# Ваше решение\n",
        "import csv\n",
        "import math\n",
        "from datetime import datetime, timedelta\n",
        "\n",
        "dict_jan = {}\n",
        "dict_ret = {}\n",
        "\n",
        "with open('registrations.csv', 'r', newline='') as reg:\n",
        "  reader=csv.reader(reg, delimiter=';')\n",
        "  next(reader) #пропускаем заголовок\n",
        "  for row in reader:\n",
        "    date_object = datetime.strptime(row[1], \"%Y-%m-%d\") # приводим строку с датой к нужному формату\n",
        "    month_number = date_object.month # вытаскиваем из даты месяц и сравниваем с нужным\n",
        "    if month_number == 1:\n",
        "      dict_jan[row[0]]=row[1] # словарь январских регистраций (ключ - ID, значение - дата регистрации)\n",
        "with open('entries.csv', 'r', newline='') as ent:\n",
        "  reader=csv.reader(ent, delimiter=';')\n",
        "  next(reader)\n",
        "  for row in reader:\n",
        "    # выбираем из файла с заходами те из них, которые совершались на 15 день, при этом запись в словарь исключает дублирование\n",
        "    if row[0] in dict_jan.keys() and datetime.strptime(row[1], \"%Y-%m-%d\") == datetime.strptime(dict_jan[row[0]], \"%Y-%m-%d\") + timedelta(days=15):\n",
        "      dict_ret[row[0]] = 15 #словарь с ID, у которых был 15-днейный ретеншн\n",
        "retention_15_day = round(((len(dict_ret) / len(dict_jan))*100),5) #результат\n",
        "round(retention_15_day, 5)\n",
        "\n",
        "\n",
        "\n",
        "\n",
        "\n",
        "\n",
        "\n",
        "\n"
      ]
    },
    {
      "cell_type": "code",
      "execution_count": null,
      "metadata": {
        "cellView": "form",
        "colab": {
          "base_uri": "https://localhost:8080/"
        },
        "id": "YGydKAis0Ae9",
        "outputId": "018b0bed-0165-4c72-b652-efb752001797"
      },
      "outputs": [
        {
          "output_type": "stream",
          "name": "stdout",
          "text": [
            "Поздравляем, Вы справились!\n"
          ]
        }
      ],
      "source": [
        "#@title ✏️ Проверка: чтобы проверить свое решение запустите код в этой ячейке\n",
        "# Открываем файл с правильными ответами\n",
        "with open('metrics.txt', 'r') as f:\n",
        "    answers = f.read().split('\\n')\n",
        "\n",
        "correct_answer = float(answers[0])\n",
        "\n",
        "try:\n",
        "    assert retention_15_day == correct_answer\n",
        "except AssertionError:\n",
        "    print('Ответы не совпадают')\n",
        "else:\n",
        "    print('Поздравляем, Вы справились!')"
      ]
    },
    {
      "cell_type": "markdown",
      "metadata": {
        "id": "TbkdEVLI0Cor"
      },
      "source": [
        "### **Посчитайте Rolling-retention 30 дня (в процентах) для пользователей из той же когорты**\n",
        "\n",
        "Сохраните результат в переменную `rolling_retention`\n",
        "\n",
        "**Примечание:** результат округлите до 5 знаков после запятой"
      ]
    },
    {
      "cell_type": "code",
      "execution_count": null,
      "metadata": {
        "colab": {
          "base_uri": "https://localhost:8080/"
        },
        "id": "keCBmUDJ0Hho",
        "outputId": "c1489e31-9927-435b-883a-485c1fd33099"
      },
      "outputs": [
        {
          "output_type": "execute_result",
          "data": {
            "text/plain": [
              "29.06977"
            ]
          },
          "metadata": {},
          "execution_count": 7
        }
      ],
      "source": [
        "# Ваше решение\n",
        "\n",
        "import csv\n",
        "import math\n",
        "from datetime import datetime, timedelta\n",
        "\n",
        "dict_jan = {}\n",
        "dict_ent = {}\n",
        "dict_ret = {}\n",
        "\n",
        "with open('registrations.csv', 'r', newline='') as reg:\n",
        "  reader=csv.reader(reg, delimiter=';')\n",
        "  next(reader) #пропускаем заголовок\n",
        "  for row in reader:\n",
        "    date_object = datetime.strptime(row[1], \"%Y-%m-%d\") # приводим строку с датой к нужному формату\n",
        "    month_number = date_object.month # вытаскиваем из даты месяц и сравниваем с нужным\n",
        "    if month_number == 1:\n",
        "      dict_jan[row[0]]=date_object # словарь январских регистраций (ключ - ID, значение - дата регистрации)\n",
        "\n",
        "\n",
        "# Проверяем ежедневные вхождения\n",
        "with open('entries.csv', 'r', newline='') as ent:\n",
        "  reader = csv.reader(ent, delimiter=';')\n",
        "  next(reader)\n",
        "  user_active_days = {user_id: set() for user_id in dict_jan.keys()}\n",
        "# наполняем словарь значениями без дубликатов\n",
        "  for row in reader:\n",
        "    user_id = row[0]\n",
        "    entry_date = datetime.strptime(row[1], \"%Y-%m-%d\")\n",
        "    if user_id in dict_jan.keys() and entry_date not in user_active_days[user_id]:\n",
        "      user_active_days[user_id].add(entry_date)\n",
        "\n",
        "  rolling_retention_rates = set()\n",
        "#считаем кол-во дней с регистрации:\n",
        "  for user_reg, reg_day in dict_jan.items():\n",
        "    for user_id, active_days in user_active_days.items():\n",
        "      if user_reg==user_id:\n",
        "        for i in active_days:\n",
        "          cnt_day = i - reg_day\n",
        "          if cnt_day.days>=30:\n",
        "            rolling_retention_rates.add(user_id)\n",
        "            break\n",
        "# считаем rolling retention\n",
        "rolling_retention = round(len(rolling_retention_rates)/len(dict_jan) * 100,5)\n",
        "\n",
        "round(rolling_retention, 5)"
      ]
    },
    {
      "cell_type": "code",
      "execution_count": null,
      "metadata": {
        "cellView": "form",
        "id": "fTwUwQZ40JCl",
        "colab": {
          "base_uri": "https://localhost:8080/"
        },
        "outputId": "1862aa67-b05a-493a-bfe8-508446272cc2"
      },
      "outputs": [
        {
          "output_type": "stream",
          "name": "stdout",
          "text": [
            "Поздравляем, Вы справились!\n"
          ]
        }
      ],
      "source": [
        "#@title ✏️ Проверка: чтобы проверить свое решение запустите код в этой ячейке\n",
        "correct_answer = float(answers[1])\n",
        "\n",
        "try:\n",
        "    assert rolling_retention == correct_answer\n",
        "except AssertionError:\n",
        "    print('Ответы не совпадают')\n",
        "else:\n",
        "    print('Поздравляем, Вы справились!')"
      ]
    },
    {
      "cell_type": "markdown",
      "metadata": {
        "id": "wxkhEVmF0PAo"
      },
      "source": [
        "### **Посчитайте Lifetime по всем пользователям, посчитанный как интеграл от n-day retention**\n",
        "\n",
        "Сохраните результат в переменную `lifetime`\n",
        "\n",
        "**Примечание:** результат округлите до 5 знаков после запятой"
      ]
    },
    {
      "cell_type": "code",
      "execution_count": 13,
      "metadata": {
        "id": "KS17l5Ux0UD3"
      },
      "outputs": [],
      "source": [
        "# Ваше решение\n",
        "import csv\n",
        "import math\n",
        "from datetime import datetime, timedelta\n",
        "\n",
        "dict_registrations = {} #словарь регистраций\n",
        "dict_ret = {}\n",
        "\n",
        "with open('registrations.csv', 'r', newline='') as reg:\n",
        "  reader=csv.reader(reg, delimiter=';')\n",
        "  next(reader) #пропускаем заголовок\n",
        "  for row in reader:\n",
        "   dict_registrations[row[0]]=row[1] # словарь регистраций (ключ - ID, значение - дата регистрации)\n",
        "\n",
        "# Делаем словарь ежедневных вхождений\n",
        "with open('entries.csv', 'r', newline='') as ent:\n",
        "  reader = csv.reader(ent, delimiter=';')\n",
        "  next(reader)\n",
        "  user_active_days = {user_id: set() for user_id in dict_registrations.keys()}\n",
        "# наполняем словарь значениями без дубликатов\n",
        "  for row in reader:\n",
        "    user_id = row[0]\n",
        "    entry_date = row[1]\n",
        "    if entry_date not in user_active_days[user_id]:\n",
        "      user_active_days[user_id].add(entry_date)\n",
        "\n",
        "# считаем количество дней с регистрации для каждого входа каждого пользователя\n",
        "\n",
        "days_since_registration_all = []\n",
        "for user1, reg_day in dict_registrations.items():\n",
        "  registration_date = datetime.strptime(reg_day, \"%Y-%m-%d\")\n",
        "  for user2, active_days in user_active_days.items():\n",
        "    if user1==user2:\n",
        "      user_id = user1\n",
        "      for ad in active_days:\n",
        "        entry_date = datetime.strptime(ad, \"%Y-%m-%d\")\n",
        "        days = (entry_date - registration_date).days\n",
        "        days_since_registration_all.append({\"user_id\": user_id, \"days_since_registration\": days})\n",
        "\n",
        "counts = {}\n",
        "for entry in days_since_registration_all:\n",
        "    days_since_registration = entry['days_since_registration']\n",
        "    if days_since_registration not in counts:\n",
        "        counts[days_since_registration] = 0\n",
        "    counts[days_since_registration] += 1\n",
        "each_day_ret = dict(sorted(counts.items()))\n",
        "\n",
        "day_zero_count = each_day_ret[0]\n",
        "lifetime = 0\n",
        "\n",
        "for day, count in each_day_ret.items():\n",
        "    lifetime += (count / day_zero_count)\n",
        "\n",
        "lifetime = round(lifetime, 5)\n"
      ]
    },
    {
      "cell_type": "code",
      "execution_count": 14,
      "metadata": {
        "id": "k7s0V8hF0Vmx",
        "colab": {
          "base_uri": "https://localhost:8080/",
          "height": 211
        },
        "outputId": "0daeb003-574a-43cc-f495-9d071727d602"
      },
      "outputs": [
        {
          "output_type": "error",
          "ename": "NameError",
          "evalue": "name 'answers' is not defined",
          "traceback": [
            "\u001b[0;31m---------------------------------------------------------------------------\u001b[0m",
            "\u001b[0;31mNameError\u001b[0m                                 Traceback (most recent call last)",
            "\u001b[0;32m/tmp/ipython-input-14-857667313.py\u001b[0m in \u001b[0;36m<cell line: 0>\u001b[0;34m()\u001b[0m\n\u001b[1;32m      1\u001b[0m \u001b[0;31m#@title ✏️ Проверка: чтобы проверить свое решение запустите код в этой ячейке\u001b[0m\u001b[0;34m\u001b[0m\u001b[0;34m\u001b[0m\u001b[0m\n\u001b[0;32m----> 2\u001b[0;31m \u001b[0mcorrect_answer\u001b[0m \u001b[0;34m=\u001b[0m \u001b[0mfloat\u001b[0m\u001b[0;34m(\u001b[0m\u001b[0manswers\u001b[0m\u001b[0;34m[\u001b[0m\u001b[0;36m2\u001b[0m\u001b[0;34m]\u001b[0m\u001b[0;34m)\u001b[0m\u001b[0;34m\u001b[0m\u001b[0;34m\u001b[0m\u001b[0m\n\u001b[0m\u001b[1;32m      3\u001b[0m \u001b[0;34m\u001b[0m\u001b[0m\n\u001b[1;32m      4\u001b[0m \u001b[0;32mtry\u001b[0m\u001b[0;34m:\u001b[0m\u001b[0;34m\u001b[0m\u001b[0;34m\u001b[0m\u001b[0m\n\u001b[1;32m      5\u001b[0m     \u001b[0;32massert\u001b[0m \u001b[0mlifetime\u001b[0m \u001b[0;34m==\u001b[0m \u001b[0mcorrect_answer\u001b[0m\u001b[0;34m\u001b[0m\u001b[0;34m\u001b[0m\u001b[0m\n",
            "\u001b[0;31mNameError\u001b[0m: name 'answers' is not defined"
          ]
        }
      ],
      "source": [
        "#@title ✏️ Проверка: чтобы проверить свое решение запустите код в этой ячейке\n",
        "correct_answer = float(answers[2])\n",
        "\n",
        "try:\n",
        "    assert lifetime == correct_answer\n",
        "except AssertionError:\n",
        "    print('Ответы не совпадают')\n",
        "else:\n",
        "    print('Поздравляем, Вы справились!')"
      ]
    },
    {
      "cell_type": "markdown",
      "metadata": {
        "id": "OrwoZ-wR0jJq"
      },
      "source": [
        "### **Посчитайте Churn rate 29 дня (в долях), посчитанный по всем пользователям**\n",
        "\n",
        "Сохраните результат в переменную `churn_29`.  \n",
        "Если будете считать CR от Retention, ведите расчет от Rolling Retention, таким образом, мы получим всех, кто не заходил в 29 день и после. Ведя расчет от обычного Retention, наоборот - получим только CR в 29 день.\n"
      ]
    },
    {
      "cell_type": "code",
      "execution_count": 24,
      "metadata": {
        "id": "hKN7vidq0mJ3",
        "colab": {
          "base_uri": "https://localhost:8080/"
        },
        "outputId": "5fccc156-f2e4-442a-82eb-a52447e3429f"
      },
      "outputs": [
        {
          "output_type": "stream",
          "name": "stdout",
          "text": [
            "0.509\n"
          ]
        }
      ],
      "source": [
        "# Ваше решение\n",
        "\n",
        "import csv\n",
        "import math\n",
        "from datetime import datetime, timedelta\n",
        "\n",
        "dict_reg = {}\n",
        "dict_ent = {}\n",
        "dict_ret = {}\n",
        "\n",
        "with open('registrations.csv', 'r', newline='') as reg:\n",
        "  reader=csv.reader(reg, delimiter=';')\n",
        "  next(reader) #пропускаем заголовок\n",
        "  for row in reader:\n",
        "    date_object = datetime.strptime(row[1], \"%Y-%m-%d\") # приводим строку с датой к нужному формату\n",
        "    dict_reg[row[0]]=date_object # словарь регистраций (ключ - ID, значение - дата регистрации)\n",
        "\n",
        "\n",
        "# Проверяем ежедневные вхождения\n",
        "with open('entries.csv', 'r', newline='') as ent:\n",
        "  reader = csv.reader(ent, delimiter=';')\n",
        "  next(reader)\n",
        "  user_active_days = {user_id: set() for user_id in dict_reg.keys()}\n",
        "# наполняем словарь значениями без дубликатов\n",
        "  for row in reader:\n",
        "    user_id = row[0]\n",
        "    entry_date = datetime.strptime(row[1], \"%Y-%m-%d\")\n",
        "    if user_id in dict_reg.keys() and entry_date not in user_active_days[user_id]:\n",
        "      user_active_days[user_id].add(entry_date)\n",
        "\n",
        "  rolling_retention_rates = set()\n",
        "#считаем кол-во дней с регистрации:\n",
        "  for user_reg, reg_day in dict_reg.items():\n",
        "    for user_id, active_days in user_active_days.items():\n",
        "      if user_reg==user_id:\n",
        "        for i in active_days:\n",
        "          cnt_day = i - reg_day\n",
        "          if cnt_day.days>=29:\n",
        "            rolling_retention_rates.add(user_id)\n",
        "            break\n",
        "# считаем rolling retention\n",
        "rolling_retention = round(len(rolling_retention_rates)/len(dict_reg),5)\n",
        "\n",
        "\n",
        "churn_29 = 1-round(rolling_retention, 5)\n",
        "print(churn_29)"
      ]
    },
    {
      "cell_type": "code",
      "execution_count": 26,
      "metadata": {
        "cellView": "form",
        "id": "14KnR1gD0ou9",
        "colab": {
          "base_uri": "https://localhost:8080/",
          "height": 211
        },
        "outputId": "8616ca1d-0496-4b62-e1d3-247ae0011d41"
      },
      "outputs": [
        {
          "output_type": "error",
          "ename": "NameError",
          "evalue": "name 'answers' is not defined",
          "traceback": [
            "\u001b[0;31m---------------------------------------------------------------------------\u001b[0m",
            "\u001b[0;31mNameError\u001b[0m                                 Traceback (most recent call last)",
            "\u001b[0;32m/tmp/ipython-input-26-3337226236.py\u001b[0m in \u001b[0;36m<cell line: 0>\u001b[0;34m()\u001b[0m\n\u001b[1;32m      1\u001b[0m \u001b[0;31m#@title ✏️ Проверка: чтобы проверить свое решение запустите код в этой ячейке\u001b[0m\u001b[0;34m\u001b[0m\u001b[0;34m\u001b[0m\u001b[0m\n\u001b[0;32m----> 2\u001b[0;31m \u001b[0mcorrect_answer\u001b[0m \u001b[0;34m=\u001b[0m \u001b[0mfloat\u001b[0m\u001b[0;34m(\u001b[0m\u001b[0manswers\u001b[0m\u001b[0;34m[\u001b[0m\u001b[0;36m3\u001b[0m\u001b[0;34m]\u001b[0m\u001b[0;34m)\u001b[0m\u001b[0;34m\u001b[0m\u001b[0;34m\u001b[0m\u001b[0m\n\u001b[0m\u001b[1;32m      3\u001b[0m \u001b[0;34m\u001b[0m\u001b[0m\n\u001b[1;32m      4\u001b[0m \u001b[0;32mtry\u001b[0m\u001b[0;34m:\u001b[0m\u001b[0;34m\u001b[0m\u001b[0;34m\u001b[0m\u001b[0m\n\u001b[1;32m      5\u001b[0m     \u001b[0;32massert\u001b[0m \u001b[0mchurn_29\u001b[0m \u001b[0;34m==\u001b[0m \u001b[0mcorrect_answer\u001b[0m\u001b[0;34m\u001b[0m\u001b[0;34m\u001b[0m\u001b[0m\n",
            "\u001b[0;31mNameError\u001b[0m: name 'answers' is not defined"
          ]
        }
      ],
      "source": [
        "#@title ✏️ Проверка: чтобы проверить свое решение запустите код в этой ячейке\n",
        "correct_answer = float(answers[3])\n",
        "\n",
        "try:\n",
        "    assert churn_29 == correct_answer\n",
        "except AssertionError:\n",
        "    print('Ответы не совпадают')\n",
        "else:\n",
        "    print('Поздравляем, Вы справились!')"
      ]
    },
    {
      "cell_type": "markdown",
      "metadata": {
        "id": "QuO3ZwRI5mdH"
      },
      "source": [
        "### **Посчитайте Mau, Wau, Dau за последний месяц/неделю/день записей**\n",
        "\n",
        "Сохраните результат в переменные `dec_mau`, `dec_wau`, `dec_dau` соответственно\n",
        "\n",
        "**Примечание:** последний месяц записей - декабрь. Поэтому `mau` рассчитываем для декабря (2021 года), для `wau` берем последнюю неделю - с 25 по 31 декабря, и для `dau` соответственно последний день - 31 декабря."
      ]
    },
    {
      "cell_type": "code",
      "execution_count": 33,
      "metadata": {
        "id": "HxGWkaSp5kpo"
      },
      "outputs": [],
      "source": [
        "# Ваше решение\n",
        "dec21_entries = set()\n",
        "for user_id, active_days in user_active_days.items():\n",
        "  for i in active_days:\n",
        "    month_number = i.month\n",
        "    year_number=i.year\n",
        "    if month_number == 12 and year_number == 2021:\n",
        "      dec21_entries.add(user_id)\n",
        "\n",
        "dec_mau = len(dec21_entries)\n",
        "\n"
      ]
    },
    {
      "cell_type": "code",
      "execution_count": 31,
      "metadata": {
        "cellView": "form",
        "id": "dpK4clbe5xiH",
        "colab": {
          "base_uri": "https://localhost:8080/",
          "height": 211
        },
        "outputId": "2509e9d4-a66e-4045-e6ce-fb9a7ffaefa5"
      },
      "outputs": [
        {
          "output_type": "error",
          "ename": "NameError",
          "evalue": "name 'answers' is not defined",
          "traceback": [
            "\u001b[0;31m---------------------------------------------------------------------------\u001b[0m",
            "\u001b[0;31mNameError\u001b[0m                                 Traceback (most recent call last)",
            "\u001b[0;32m/tmp/ipython-input-31-2543607089.py\u001b[0m in \u001b[0;36m<cell line: 0>\u001b[0;34m()\u001b[0m\n\u001b[1;32m      1\u001b[0m \u001b[0;31m#@title ✏️ Проверка: чтобы проверить свое решение запустите код в этой ячейке\u001b[0m\u001b[0;34m\u001b[0m\u001b[0;34m\u001b[0m\u001b[0m\n\u001b[0;32m----> 2\u001b[0;31m \u001b[0mcorrect_answer\u001b[0m \u001b[0;34m=\u001b[0m \u001b[0mfloat\u001b[0m\u001b[0;34m(\u001b[0m\u001b[0manswers\u001b[0m\u001b[0;34m[\u001b[0m\u001b[0;36m4\u001b[0m\u001b[0;34m]\u001b[0m\u001b[0;34m)\u001b[0m\u001b[0;34m\u001b[0m\u001b[0;34m\u001b[0m\u001b[0m\n\u001b[0m\u001b[1;32m      3\u001b[0m \u001b[0;34m\u001b[0m\u001b[0m\n\u001b[1;32m      4\u001b[0m \u001b[0;32mtry\u001b[0m\u001b[0;34m:\u001b[0m\u001b[0;34m\u001b[0m\u001b[0;34m\u001b[0m\u001b[0m\n\u001b[1;32m      5\u001b[0m     \u001b[0;32massert\u001b[0m \u001b[0mdec_mau\u001b[0m \u001b[0;34m==\u001b[0m \u001b[0mcorrect_answer\u001b[0m\u001b[0;34m\u001b[0m\u001b[0;34m\u001b[0m\u001b[0m\n",
            "\u001b[0;31mNameError\u001b[0m: name 'answers' is not defined"
          ]
        }
      ],
      "source": [
        "#@title ✏️ Проверка: чтобы проверить свое решение запустите код в этой ячейке\n",
        "correct_answer = float(answers[4])\n",
        "\n",
        "try:\n",
        "    assert dec_mau == correct_answer\n",
        "except AssertionError:\n",
        "    print('Ответы не совпадают')\n",
        "else:\n",
        "    print('Поздравляем, Вы справились!')"
      ]
    },
    {
      "cell_type": "code",
      "execution_count": 39,
      "metadata": {
        "id": "urEWcCuk522y",
        "colab": {
          "base_uri": "https://localhost:8080/"
        },
        "outputId": "97ccc39c-c5b9-4472-ae1b-6e59176411a2"
      },
      "outputs": [
        {
          "output_type": "stream",
          "name": "stdout",
          "text": [
            "84\n"
          ]
        }
      ],
      "source": [
        "last_week_dec21_entries = set()\n",
        "for user_id, active_days in user_active_days.items():\n",
        "  for i in active_days:\n",
        "    month_number = i.month\n",
        "    year_number=i.year\n",
        "    day_number=i.day\n",
        "    if month_number == 12 and year_number == 2021 and day_number >= 25 and day_number <= 31:\n",
        "      last_week_dec21_entries.add(user_id)\n",
        "\n",
        "dec_wau = len(last_week_dec21_entries)\n",
        "print(dec_wau)"
      ]
    },
    {
      "cell_type": "code",
      "execution_count": 40,
      "metadata": {
        "id": "xziXbjnJ549b",
        "colab": {
          "base_uri": "https://localhost:8080/",
          "height": 211
        },
        "outputId": "2889b60e-2bdb-4874-9a14-13a4003515b2"
      },
      "outputs": [
        {
          "output_type": "error",
          "ename": "NameError",
          "evalue": "name 'answers' is not defined",
          "traceback": [
            "\u001b[0;31m---------------------------------------------------------------------------\u001b[0m",
            "\u001b[0;31mNameError\u001b[0m                                 Traceback (most recent call last)",
            "\u001b[0;32m/tmp/ipython-input-40-3736433185.py\u001b[0m in \u001b[0;36m<cell line: 0>\u001b[0;34m()\u001b[0m\n\u001b[1;32m      1\u001b[0m \u001b[0;31m#@title ✏️ Проверка: чтобы проверить свое решение запустите код в этой ячейке\u001b[0m\u001b[0;34m\u001b[0m\u001b[0;34m\u001b[0m\u001b[0m\n\u001b[0;32m----> 2\u001b[0;31m \u001b[0mcorrect_answer\u001b[0m \u001b[0;34m=\u001b[0m \u001b[0mfloat\u001b[0m\u001b[0;34m(\u001b[0m\u001b[0manswers\u001b[0m\u001b[0;34m[\u001b[0m\u001b[0;36m5\u001b[0m\u001b[0;34m]\u001b[0m\u001b[0;34m)\u001b[0m\u001b[0;34m\u001b[0m\u001b[0;34m\u001b[0m\u001b[0m\n\u001b[0m\u001b[1;32m      3\u001b[0m \u001b[0;34m\u001b[0m\u001b[0m\n\u001b[1;32m      4\u001b[0m \u001b[0;32mtry\u001b[0m\u001b[0;34m:\u001b[0m\u001b[0;34m\u001b[0m\u001b[0;34m\u001b[0m\u001b[0m\n\u001b[1;32m      5\u001b[0m     \u001b[0;32massert\u001b[0m \u001b[0mdec_wau\u001b[0m \u001b[0;34m==\u001b[0m \u001b[0mcorrect_answer\u001b[0m\u001b[0;34m\u001b[0m\u001b[0;34m\u001b[0m\u001b[0m\n",
            "\u001b[0;31mNameError\u001b[0m: name 'answers' is not defined"
          ]
        }
      ],
      "source": [
        "#@title ✏️ Проверка: чтобы проверить свое решение запустите код в этой ячейке\n",
        "correct_answer = float(answers[5])\n",
        "\n",
        "try:\n",
        "    assert dec_wau == correct_answer\n",
        "except AssertionError:\n",
        "    print('Ответы не совпадают')\n",
        "else:\n",
        "    print('Поздравляем, Вы справились!')"
      ]
    },
    {
      "cell_type": "code",
      "execution_count": 44,
      "metadata": {
        "id": "hv7Nz3TN59Ds"
      },
      "outputs": [],
      "source": [
        "# Ваше решение\n",
        "\n",
        "last_week_dec21_entries = set()\n",
        "for user_id, active_days in user_active_days.items():\n",
        "  for i in active_days:\n",
        "    month_number = i.month\n",
        "    year_number=i.year\n",
        "    day_number=i.day\n",
        "    if month_number == 12 and year_number == 2021 and day_number == 31:\n",
        "      last_week_dec21_entries.add(user_id)\n",
        "\n",
        "dec_dau = len(last_week_dec21_entries)\n",
        "\n"
      ]
    },
    {
      "cell_type": "code",
      "execution_count": 45,
      "metadata": {
        "id": "1csOLxor5_ox",
        "colab": {
          "base_uri": "https://localhost:8080/",
          "height": 211
        },
        "outputId": "e692bb6f-f1a2-4d52-ec3b-87571f08252d"
      },
      "outputs": [
        {
          "output_type": "error",
          "ename": "NameError",
          "evalue": "name 'answers' is not defined",
          "traceback": [
            "\u001b[0;31m---------------------------------------------------------------------------\u001b[0m",
            "\u001b[0;31mNameError\u001b[0m                                 Traceback (most recent call last)",
            "\u001b[0;32m/tmp/ipython-input-45-1174556475.py\u001b[0m in \u001b[0;36m<cell line: 0>\u001b[0;34m()\u001b[0m\n\u001b[1;32m      1\u001b[0m \u001b[0;31m#@title ✏️ Проверка: чтобы проверить свое решение запустите код в этой ячейке\u001b[0m\u001b[0;34m\u001b[0m\u001b[0;34m\u001b[0m\u001b[0m\n\u001b[0;32m----> 2\u001b[0;31m \u001b[0mcorrect_answer\u001b[0m \u001b[0;34m=\u001b[0m \u001b[0mfloat\u001b[0m\u001b[0;34m(\u001b[0m\u001b[0manswers\u001b[0m\u001b[0;34m[\u001b[0m\u001b[0;36m6\u001b[0m\u001b[0;34m]\u001b[0m\u001b[0;34m)\u001b[0m\u001b[0;34m\u001b[0m\u001b[0;34m\u001b[0m\u001b[0m\n\u001b[0m\u001b[1;32m      3\u001b[0m \u001b[0;34m\u001b[0m\u001b[0m\n\u001b[1;32m      4\u001b[0m \u001b[0;32mtry\u001b[0m\u001b[0;34m:\u001b[0m\u001b[0;34m\u001b[0m\u001b[0;34m\u001b[0m\u001b[0m\n\u001b[1;32m      5\u001b[0m     \u001b[0;32massert\u001b[0m \u001b[0mdec_dau\u001b[0m \u001b[0;34m==\u001b[0m \u001b[0mcorrect_answer\u001b[0m\u001b[0;34m\u001b[0m\u001b[0;34m\u001b[0m\u001b[0m\n",
            "\u001b[0;31mNameError\u001b[0m: name 'answers' is not defined"
          ]
        }
      ],
      "source": [
        "#@title ✏️ Проверка: чтобы проверить свое решение запустите код в этой ячейке\n",
        "correct_answer = float(answers[6])\n",
        "\n",
        "try:\n",
        "    assert dec_dau == correct_answer\n",
        "except AssertionError:\n",
        "    print('Ответы не совпадают')\n",
        "else:\n",
        "    print('Поздравляем, Вы справились!')"
      ]
    },
    {
      "cell_type": "markdown",
      "metadata": {
        "id": "gzElxXgv6Dyr"
      },
      "source": [
        "### **Посчитайте Mau, Wau, Dau усредненные**\n",
        "\n",
        "Сохраните результат в переменные `avg_mau`, `avg_wau`, `avg_dau` соответственно\n",
        "\n",
        "**Примечание:** результаты округлите до 5 знаков после запятой"
      ]
    },
    {
      "cell_type": "code",
      "execution_count": 49,
      "metadata": {
        "id": "mUDYPPqx6RPr",
        "colab": {
          "base_uri": "https://localhost:8080/"
        },
        "outputId": "a3de0339-0cc1-4376-e71d-c956ca6aa267"
      },
      "outputs": [
        {
          "output_type": "stream",
          "name": "stdout",
          "text": [
            "102.58333\n"
          ]
        }
      ],
      "source": [
        "# Ваше решение\n",
        "from collections import defaultdict\n",
        "\n",
        "# Создаем defaultdict для хранения уникальных юзеров каждого месяца\n",
        "counts_avg = defaultdict(set)\n",
        "\n",
        "# Пройдем по входам\n",
        "for user_id, active_days in user_active_days.items():\n",
        "  for i in active_days:\n",
        "    month_number = i.month\n",
        "    year_number=i.year\n",
        "    # Используем год и месяц в качестве ключа\n",
        "    key = f\"{year_number}-{month_number}\"\n",
        "    counts_avg[key].add(user_id)\n",
        "\n",
        "# Конвертируем множество пользователей в количество уникальных пользователей\n",
        "count_of_unique_user_ids = {}\n",
        "for key, value in counts_avg.items():\n",
        "    count_of_unique_user_ids[key] = len(value)\n",
        "\n",
        "sum = 0\n",
        "for key, value in count_of_unique_user_ids.items():\n",
        "    sum += value\n",
        "\n",
        "avg_mau = round(sum/len(count_of_unique_user_ids), 5)\n",
        "\n"
      ]
    },
    {
      "cell_type": "code",
      "execution_count": 50,
      "metadata": {
        "id": "CfikZaBu6V9_",
        "colab": {
          "base_uri": "https://localhost:8080/",
          "height": 211
        },
        "outputId": "bf4ab25b-ec7e-43f6-dfc1-780b0d49704d"
      },
      "outputs": [
        {
          "output_type": "error",
          "ename": "NameError",
          "evalue": "name 'answers' is not defined",
          "traceback": [
            "\u001b[0;31m---------------------------------------------------------------------------\u001b[0m",
            "\u001b[0;31mNameError\u001b[0m                                 Traceback (most recent call last)",
            "\u001b[0;32m/tmp/ipython-input-50-33341156.py\u001b[0m in \u001b[0;36m<cell line: 0>\u001b[0;34m()\u001b[0m\n\u001b[1;32m      1\u001b[0m \u001b[0;31m#@title ✏️ Проверка: чтобы проверить свое решение запустите код в этой ячейке\u001b[0m\u001b[0;34m\u001b[0m\u001b[0;34m\u001b[0m\u001b[0m\n\u001b[0;32m----> 2\u001b[0;31m \u001b[0mcorrect_answer\u001b[0m \u001b[0;34m=\u001b[0m \u001b[0mfloat\u001b[0m\u001b[0;34m(\u001b[0m\u001b[0manswers\u001b[0m\u001b[0;34m[\u001b[0m\u001b[0;36m7\u001b[0m\u001b[0;34m]\u001b[0m\u001b[0;34m)\u001b[0m\u001b[0;34m\u001b[0m\u001b[0;34m\u001b[0m\u001b[0m\n\u001b[0m\u001b[1;32m      3\u001b[0m \u001b[0;34m\u001b[0m\u001b[0m\n\u001b[1;32m      4\u001b[0m \u001b[0;32mtry\u001b[0m\u001b[0;34m:\u001b[0m\u001b[0;34m\u001b[0m\u001b[0;34m\u001b[0m\u001b[0m\n\u001b[1;32m      5\u001b[0m     \u001b[0;32massert\u001b[0m \u001b[0mavg_mau\u001b[0m \u001b[0;34m==\u001b[0m \u001b[0mcorrect_answer\u001b[0m\u001b[0;34m\u001b[0m\u001b[0;34m\u001b[0m\u001b[0m\n",
            "\u001b[0;31mNameError\u001b[0m: name 'answers' is not defined"
          ]
        }
      ],
      "source": [
        "#@title ✏️ Проверка: чтобы проверить свое решение запустите код в этой ячейке\n",
        "correct_answer = float(answers[7])\n",
        "\n",
        "try:\n",
        "    assert avg_mau == correct_answer\n",
        "except AssertionError:\n",
        "    print('Ответы не совпадают')\n",
        "else:\n",
        "    print('Поздравляем, Вы справились!')"
      ]
    },
    {
      "cell_type": "code",
      "execution_count": 52,
      "metadata": {
        "id": "WydV9g9C6x7O",
        "colab": {
          "base_uri": "https://localhost:8080/"
        },
        "outputId": "1419f580-1ff3-4a8a-8360-8bb72c180511"
      },
      "outputs": [
        {
          "output_type": "stream",
          "name": "stdout",
          "text": [
            "89.86792\n"
          ]
        }
      ],
      "source": [
        "# Ваше решение\n",
        "# Ваше решение\n",
        "from collections import defaultdict\n",
        "\n",
        "# Создаем defaultdict для хранения уникальных юзеров каждого месяца\n",
        "counts_avg = defaultdict(set)\n",
        "\n",
        "# Пройдем по входам\n",
        "for user_id, active_days in user_active_days.items():\n",
        "  for i in active_days:\n",
        "    year, week_num, _ = i.isocalendar()\n",
        "    # Используем год и месяц в качестве ключа\n",
        "    key = f\"{year}-{week_num}\"\n",
        "    counts_avg[key].add(user_id)\n",
        "\n",
        "# Конвертируем множество пользователей в количество уникальных пользователей\n",
        "count_of_unique_user_ids = {}\n",
        "for key, value in counts_avg.items():\n",
        "    count_of_unique_user_ids[key] = len(value)\n",
        "\n",
        "sum = 0\n",
        "for key, value in count_of_unique_user_ids.items():\n",
        "    sum += value\n",
        "\n",
        "avg_wau = round(sum/len(count_of_unique_user_ids), 5)\n",
        "\n"
      ]
    },
    {
      "cell_type": "code",
      "execution_count": null,
      "metadata": {
        "cellView": "form",
        "id": "qbZgzDpV6zUl"
      },
      "outputs": [],
      "source": [
        "#@title ✏️ Проверка: чтобы проверить свое решение запустите код в этой ячейке\n",
        "correct_answer = float(answers[8])\n",
        "\n",
        "try:\n",
        "    assert avg_wau == correct_answer\n",
        "except AssertionError:\n",
        "    print('Ответы не совпадают')\n",
        "else:\n",
        "    print('Поздравляем, Вы справились!')"
      ]
    },
    {
      "cell_type": "code",
      "execution_count": 53,
      "metadata": {
        "id": "NgqOR38d64_T",
        "colab": {
          "base_uri": "https://localhost:8080/"
        },
        "outputId": "2a91ecdf-525c-47c5-8efe-3b28daaeb24e"
      },
      "outputs": [
        {
          "output_type": "stream",
          "name": "stdout",
          "text": [
            "40.5589\n"
          ]
        }
      ],
      "source": [
        "# Ваше решение\n",
        "from collections import defaultdict\n",
        "\n",
        "# Создаем defaultdict для хранения уникальных юзеров каждого месяца\n",
        "counts_avg = defaultdict(set)\n",
        "\n",
        "# Пройдем по входам\n",
        "for user_id, active_days in user_active_days.items():\n",
        "  for i in active_days:\n",
        "    # Используем дату в качестве ключа\n",
        "    key = i\n",
        "    counts_avg[key].add(user_id)\n",
        "\n",
        "# Конвертируем множество пользователей в количество уникальных пользователей\n",
        "count_of_unique_user_ids = {}\n",
        "for key, value in counts_avg.items():\n",
        "    count_of_unique_user_ids[key] = len(value)\n",
        "\n",
        "sum = 0\n",
        "for key, value in count_of_unique_user_ids.items():\n",
        "    sum += value\n",
        "\n",
        "avg_dau = round(sum/len(count_of_unique_user_ids), 5)\n",
        "\n"
      ]
    },
    {
      "cell_type": "code",
      "execution_count": 54,
      "metadata": {
        "cellView": "form",
        "id": "TbmDR4NP66qm",
        "colab": {
          "base_uri": "https://localhost:8080/",
          "height": 211
        },
        "outputId": "697eba8d-0423-42b2-8f8c-3ab50d0935f2"
      },
      "outputs": [
        {
          "output_type": "error",
          "ename": "NameError",
          "evalue": "name 'answers' is not defined",
          "traceback": [
            "\u001b[0;31m---------------------------------------------------------------------------\u001b[0m",
            "\u001b[0;31mNameError\u001b[0m                                 Traceback (most recent call last)",
            "\u001b[0;32m/tmp/ipython-input-54-2347558456.py\u001b[0m in \u001b[0;36m<cell line: 0>\u001b[0;34m()\u001b[0m\n\u001b[1;32m      1\u001b[0m \u001b[0;31m#@title ✏️ Проверка: чтобы проверить свое решение запустите код в этой ячейке\u001b[0m\u001b[0;34m\u001b[0m\u001b[0;34m\u001b[0m\u001b[0m\n\u001b[0;32m----> 2\u001b[0;31m \u001b[0mcorrect_answer\u001b[0m \u001b[0;34m=\u001b[0m \u001b[0mfloat\u001b[0m\u001b[0;34m(\u001b[0m\u001b[0manswers\u001b[0m\u001b[0;34m[\u001b[0m\u001b[0;36m9\u001b[0m\u001b[0;34m]\u001b[0m\u001b[0;34m)\u001b[0m\u001b[0;34m\u001b[0m\u001b[0;34m\u001b[0m\u001b[0m\n\u001b[0m\u001b[1;32m      3\u001b[0m \u001b[0;34m\u001b[0m\u001b[0m\n\u001b[1;32m      4\u001b[0m \u001b[0;32mtry\u001b[0m\u001b[0;34m:\u001b[0m\u001b[0;34m\u001b[0m\u001b[0;34m\u001b[0m\u001b[0m\n\u001b[1;32m      5\u001b[0m     \u001b[0;32massert\u001b[0m \u001b[0mavg_dau\u001b[0m \u001b[0;34m==\u001b[0m \u001b[0mcorrect_answer\u001b[0m\u001b[0;34m\u001b[0m\u001b[0;34m\u001b[0m\u001b[0m\n",
            "\u001b[0;31mNameError\u001b[0m: name 'answers' is not defined"
          ]
        }
      ],
      "source": [
        "#@title ✏️ Проверка: чтобы проверить свое решение запустите код в этой ячейке\n",
        "correct_answer = float(answers[9])\n",
        "\n",
        "try:\n",
        "    assert avg_dau == correct_answer\n",
        "except AssertionError:\n",
        "    print('Ответы не совпадают')\n",
        "else:\n",
        "    print('Поздравляем, Вы справились!')"
      ]
    }
  ],
  "metadata": {
    "colab": {
      "collapsed_sections": [
        "TbkdEVLI0Cor",
        "wxkhEVmF0PAo"
      ],
      "provenance": [],
      "include_colab_link": true
    },
    "kernelspec": {
      "display_name": "Python 3",
      "name": "python3"
    },
    "language_info": {
      "name": "python"
    }
  },
  "nbformat": 4,
  "nbformat_minor": 0
}